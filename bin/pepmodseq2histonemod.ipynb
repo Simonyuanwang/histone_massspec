{
 "cells": [
  {
   "cell_type": "markdown",
   "metadata": {},
   "source": [
    "The output from the Skyline document (if using a novel document and not the preformed human/conserved document) does not include Peptide Notes with the corresponding histone mark (e.g. H3 K27me1). I want to use the hard-coded table of histone marks and their respective mass shifts provided in the complementary `generate_hptms.ipynb` script to reverse-engineer the Skyline Peptide Modified Sequence back into biological histone mark notation (e.g. `PEK[+42.04695]TIDER` would become `H3 K3me1`).\n",
    "\n",
    "\n",
    "input: a CSV with Peptide Modified Sequences from `Skyline>File>Export>Custom Report...` formats\n",
    "\n",
    "output: a new column with the Peptide Note using \"histone mod\" language (H3K27me1, H3K4ac, etc)"
   ]
  },
  {
   "cell_type": "code",
   "execution_count": 1,
   "metadata": {},
   "outputs": [
    {
     "name": "stdout",
     "output_type": "stream",
     "text": [
      "Imported required packages successfully.\n"
     ]
    }
   ],
   "source": [
    "import sys\n",
    "import os\n",
    "from os import listdir\n",
    "from os.path import isfile, join\n",
    "import pandas as pd\n",
    "import re\n",
    "import numpy as np\n",
    "from Bio import SeqIO\n",
    "from pyteomics import fasta, parser, mass, achrom, electrochem, auxiliary\n",
    "import matplotlib.pyplot as plt\n",
    "import seaborn as sns\n",
    "from tqdm import tqdm\n",
    "import itertools\n",
    "\n",
    "sys.stdout.write(\"Imported required packages successfully.\\n\")\n",
    "\n",
    "# set the master table for modification mass shifts\n",
    "MZSHIFT_DICT = {'[nPR]':'[+56]',\n",
    "                '[AC]': '[+42]',\n",
    "                '[PR]': '[+56]',\n",
    "                '[ME1]': '[+70]',\n",
    "                '[ME2]': '[+28]',\n",
    "                '[ME3]': '[+42]',\n",
    "                '[PH]': '[+80]',\n",
    "                '[nME3PR]': '[+98.1]',\n",
    "                '[nME2PR]': '[+84.1]',\n",
    "                '[nME1PR]': '[+126.1]',\n",
    "                '[nPR2]': '[+112.1]',\n",
    "                '[nAC]': '[+98]',\n",
    "                '[nACPR]': '[+84.1]'}"
   ]
  },
  {
   "cell_type": "code",
   "execution_count": 10,
   "metadata": {},
   "outputs": [
    {
     "name": "stderr",
     "output_type": "stream",
     "text": [
      "7it [00:00, 1276.31it/s]"
     ]
    },
    {
     "name": "stdout",
     "output_type": "stream",
     "text": [
      "                 protein                                   protein_sequence\n",
      "0     sp|P54671|H1_DICDI  GPKAPTTPTKKAAATKSKPKPNHPTYQVMISTAIAHYKDRTGSSQP...\n",
      "0   sp|Q54WG6|H2AX_DICDI  SETKPASSKPAAAAKPKKVIPRVSRTGEPKSKPESRSARAGITFPV...\n",
      "0   sp|Q54LA5|H2AZ_DICDI  TESETTSKKVNKRVKPVPKSTKAGLIFPVGRIHRMLKNKVPLKRVS...\n",
      "0  sp|Q54LP8|H2BV3_DICDI  VFVKGQKKATKGSTQSGEEKTASTTPKVTKTPTEGGEKKRKKRKSD...\n",
      "0   sp|O15819|H33A_DICDI  ARTKQTARKSTGAKVPRKHIGSKQAHKQTPVSSSSGGVKKVHRFRP...\n",
      "                                     Protein                 Peptide  \\\n",
      "0                       sp|Q54WG6|H2AX_DICDI  SETKPASSKPAAAAKPKKVIPR   \n",
      "1                       sp|Q54WG6|H2AX_DICDI  SETKPASSKPAAAAKPKKVIPR   \n",
      "2  sp|O15819|H33A_DICDI,sp|Q55BN9|H33B_DICDI                  TKQTAR   \n",
      "3                       sp|Q54WG6|H2AX_DICDI  SETKPASSKPAAAAKPKKVIPR   \n",
      "4                       sp|Q54WG6|H2AX_DICDI  SETKPASSKPAAAAKPKKVIPR   \n",
      "\n",
      "                           Peptide Modified Sequence  MS Level  \\\n",
      "0  S[+42]ETK[+56]PASS[+80]K[+28]PAAAAK[+56]PK[+70...         2   \n",
      "1  S[+42]ETK[+56]PASS[+80]KPAAAAK[+70]PK[+56]K[+5...         2   \n",
      "2                                   T[+56]K[+70]QTAR         2   \n",
      "3  S[+42]ETK[+56]PASS[+80]K[+28]PAAAAK[+56]PK[+56...         2   \n",
      "4  S[+42]ETK[+56]PASSK[+70]PAAAAK[+56]PK[+56]K[+5...         2   \n",
      "\n",
      "                    Fold Change Result  Adjusted P-Value  \n",
      "0  4384.05 (95% CI:887.24 to 21662.51)            0.0087  \n",
      "1                    0 (95% CI:0 to 0)            0.0087  \n",
      "2         10.27 (95% CI:6.33 to 16.67)            0.0087  \n",
      "3  2565.99 (95% CI:348.28 to 18905.21)            0.0147  \n",
      "4        71.23 (95% CI:18.48 to 274.5)            0.0213  \n"
     ]
    },
    {
     "name": "stderr",
     "output_type": "stream",
     "text": [
      "\n"
     ]
    }
   ],
   "source": [
    "## digest protein into peptides\n",
    "\n",
    "# read in FASTA\n",
    "fasta_file = os.path.join(os.getcwd(), \n",
    "                          \"../../collab_greer/data/uniprot-dicty_histones_7entries_acc20201231.fasta\")\n",
    "\n",
    "protein_df = pd.DataFrame()  # Initialize a dataframe to store results\n",
    "for protein in tqdm(SeqIO.parse(fasta_file, \"fasta\")):\n",
    "    \n",
    "    protein_sequence = str(protein.seq).upper()\n",
    "    \n",
    "    # cleave initial \"start\" methionine if present\n",
    "    if protein_sequence[0] == \"M\":\n",
    "        protein_sequence = protein_sequence[1:]\n",
    "\n",
    "    # add this protein to the dataframe\n",
    "    new_df = pd.DataFrame({'protein': protein.id,\n",
    "                           'protein_sequence': protein_sequence}, index=[0])\n",
    "    \n",
    "    protein_df = protein_df.append(new_df)\n",
    "protein_df = protein_df.drop_duplicates()\n",
    "print(protein_df.head())\n",
    "##\n",
    "## read in Skyline Export Report with Peptide Modified Sequences\n",
    "##\n",
    "\n",
    "# read in Skyline Export Report with Peptide Modified Sequences\n",
    "skyline_df = pd.read_csv(os.path.join(os.getcwd(), \n",
    "                                      \"../../collab_greer/data/greer_onlyhistlibrary_groupcomparison_mound-v-vegetative.csv\"))\n",
    "print(skyline_df.head())\n"
   ]
  },
  {
   "cell_type": "code",
   "execution_count": 42,
   "metadata": {},
   "outputs": [
    {
     "name": "stdout",
     "output_type": "stream",
     "text": [
      "            Protein Name        Peptide Sequence  \\\n",
      "0   sp|Q54WG6|H2AX_DICDI  SETKPASSKPAAAAKPKKVIPR   \n",
      "0   sp|Q54WG6|H2AX_DICDI  SETKPASSKPAAAAKPKKVIPR   \n",
      "0   sp|O15819|H33A_DICDI                  TKQTAR   \n",
      "0   sp|Q55BN9|H33B_DICDI                  TKQTAR   \n",
      "0   sp|Q54WG6|H2AX_DICDI  SETKPASSKPAAAAKPKKVIPR   \n",
      "..                   ...                     ...   \n",
      "0   sp|O15819|H33A_DICDI             EIAQEFKTDLR   \n",
      "0   sp|Q55BN9|H33B_DICDI             EIAQEFKTDLR   \n",
      "0   sp|O15819|H33A_DICDI             EIAQEFKTDLR   \n",
      "0   sp|Q55BN9|H33B_DICDI             EIAQEFKTDLR   \n",
      "0   sp|Q54LA5|H2AZ_DICDI      VKPVPKSTKAGLIFPVGR   \n",
      "\n",
      "                            Peptide Modified Sequence  \\\n",
      "0   S[+42]ETK[+56]PASS[+80]K[+28]PAAAAK[+56]PK[+70...   \n",
      "0   S[+42]ETK[+56]PASS[+80]KPAAAAK[+70]PK[+56]K[+5...   \n",
      "0                                    T[+56]K[+70]QTAR   \n",
      "0                                    T[+56]K[+70]QTAR   \n",
      "0   S[+42]ETK[+56]PASS[+80]K[+28]PAAAAK[+56]PK[+56...   \n",
      "..                                                ...   \n",
      "0                                    EIAQEFK[+28]TDLR   \n",
      "0                                    EIAQEFK[+28]TDLR   \n",
      "0                                    EIAQEFKTDLR[+14]   \n",
      "0                                    EIAQEFKTDLR[+14]   \n",
      "0                   V[+56]KPVPK[+56]STK[+56]AGLIFPVGR   \n",
      "\n",
      "                              histone mod  \\\n",
      "0   S1[+42]S8[+80]K9[+28]K17[+70]K18[+42]   \n",
      "0                  S1[+42]S8[+80]K15[+70]   \n",
      "0                                 K4[+70]   \n",
      "0                                 K4[+70]   \n",
      "0                   S1[+42]S8[+80]K9[+28]   \n",
      "..                                    ...   \n",
      "0                                K82[+28]   \n",
      "0                                K79[+28]   \n",
      "0                                R86[+14]   \n",
      "0                                R83[+14]   \n",
      "0                                           \n",
      "\n",
      "                     Fold Change Result  Adjusted P-Value  \n",
      "0   4384.05 (95% CI:887.24 to 21662.51)            0.0087  \n",
      "0                     0 (95% CI:0 to 0)            0.0087  \n",
      "0          10.27 (95% CI:6.33 to 16.67)            0.0087  \n",
      "0          10.27 (95% CI:6.33 to 16.67)            0.0087  \n",
      "0   2565.99 (95% CI:348.28 to 18905.21)            0.0147  \n",
      "..                                  ...               ...  \n",
      "0             1.08 (95% CI:0 to 680.77)            0.9898  \n",
      "0             1.08 (95% CI:0 to 680.77)            0.9898  \n",
      "0             1.03 (95% CI:0 to 526.05)            0.9910  \n",
      "0             1.03 (95% CI:0 to 526.05)            0.9910  \n",
      "0          0.95 (95% CI:0 to 205817.11)            0.9910  \n",
      "\n",
      "[120 rows x 6 columns]\n"
     ]
    }
   ],
   "source": [
    "# remove propionylations ([+56], [+112.1])\n",
    "skyline_df['new_pep_seq'] = skyline_df['Peptide Modified Sequence']\n",
    "skyline_df['new_pep_seq'] = skyline_df['new_pep_seq'].str.replace(r'\\[\\+56\\]', '')\n",
    "skyline_df['new_pep_seq'] = skyline_df['new_pep_seq'].str.replace(r'\\[\\+112.1\\]', '')\n",
    "\n",
    "\n",
    "decode_df = pd.DataFrame()  # Initialize a dataframe to store results\n",
    "for index, row in skyline_df.iterrows():\n",
    "    peptide = row['Peptide']\n",
    "    mod_seq = row['new_pep_seq']\n",
    "    fc = row['Fold Change Result']\n",
    "    pval = row['Adjusted P-Value']\n",
    "    \n",
    "    protein_match = list(protein_df[protein_df['protein_sequence'].str.contains(peptide)]['protein'])\n",
    "    \n",
    "    for protein in protein_match:\n",
    "        sequence = protein_df[protein_df['protein'] == protein]['protein_sequence'][0]\n",
    "        aa_index = sequence.find(peptide)  # get the amino acid index position\n",
    "        \n",
    "        residue_list = re.sub( r\"([A-Z])\", r\" \\1\", mod_seq).split()\n",
    "\n",
    "        # decode the histone modification\n",
    "        histone_mod = ''\n",
    "        for i in range(len(residue_list)): \n",
    "            if '[' in residue_list[i]:\n",
    "                aa_pos = aa_index + i + 1  # have to +1 for indexing\n",
    "                new_mod = residue_list[i][0] + str(aa_pos) + residue_list[i][1:]\n",
    "                histone_mod = histone_mod + new_mod\n",
    "        \n",
    "        # add this protein/peptide to the dataframe\n",
    "        new_df = pd.DataFrame({'Protein Name': protein,\n",
    "                               'Peptide Sequence': peptide,\n",
    "                               'Peptide Modified Sequence': row['Peptide Modified Sequence'],\n",
    "                               'histone mod': histone_mod,\n",
    "                               'Fold Change Result': fc,\n",
    "                               'Adjusted P-Value': pval}, index=[0])\n",
    "    \n",
    "        decode_df = decode_df.append(new_df)\n",
    "        \n",
    "decode_df = decode_df.drop_duplicates()\n",
    "\n",
    "\n",
    "print(decode_df)"
   ]
  },
  {
   "cell_type": "code",
   "execution_count": 43,
   "metadata": {},
   "outputs": [
    {
     "ename": "ValueError",
     "evalue": "No axis named Fold Change Result for object type <class 'pandas.core.frame.DataFrame'>",
     "output_type": "error",
     "traceback": [
      "\u001b[1;31m---------------------------------------------------------------------------\u001b[0m",
      "\u001b[1;31mValueError\u001b[0m                                Traceback (most recent call last)",
      "\u001b[1;32m<ipython-input-43-6d52499e6281>\u001b[0m in \u001b[0;36m<module>\u001b[1;34m\u001b[0m\n\u001b[1;32m----> 1\u001b[1;33m \u001b[0moutput_df\u001b[0m \u001b[1;33m=\u001b[0m \u001b[0mdecode_df\u001b[0m\u001b[1;33m.\u001b[0m\u001b[0mgroupby\u001b[0m\u001b[1;33m(\u001b[0m\u001b[1;34m'histone mod'\u001b[0m\u001b[1;33m,\u001b[0m \u001b[1;34m'Fold Change Result'\u001b[0m\u001b[1;33m,\u001b[0m \u001b[1;34m'Adjusted P-Value'\u001b[0m\u001b[1;33m)\u001b[0m\u001b[1;33m[\u001b[0m\u001b[1;34m'Protein Name'\u001b[0m\u001b[1;33m]\u001b[0m\u001b[1;33m.\u001b[0m\u001b[0mapply\u001b[0m\u001b[1;33m(\u001b[0m\u001b[1;32mlambda\u001b[0m \u001b[0mx\u001b[0m\u001b[1;33m:\u001b[0m \u001b[1;34m','\u001b[0m\u001b[1;33m.\u001b[0m\u001b[0mjoin\u001b[0m\u001b[1;33m(\u001b[0m\u001b[0mx\u001b[0m\u001b[1;33m)\u001b[0m\u001b[1;33m)\u001b[0m\u001b[1;33m.\u001b[0m\u001b[0mreset_index\u001b[0m\u001b[1;33m(\u001b[0m\u001b[1;33m)\u001b[0m\u001b[1;33m\u001b[0m\u001b[1;33m\u001b[0m\u001b[0m\n\u001b[0m\u001b[0;32m      2\u001b[0m \u001b[0mprint\u001b[0m\u001b[1;33m(\u001b[0m\u001b[0moutput_df\u001b[0m\u001b[1;33m)\u001b[0m\u001b[1;33m\u001b[0m\u001b[1;33m\u001b[0m\u001b[0m\n",
      "\u001b[1;32m~\\anaconda3\\lib\\site-packages\\pandas\\core\\frame.py\u001b[0m in \u001b[0;36mgroupby\u001b[1;34m(self, by, axis, level, as_index, sort, group_keys, squeeze, observed)\u001b[0m\n\u001b[0;32m   5797\u001b[0m         \u001b[1;32mif\u001b[0m \u001b[0mlevel\u001b[0m \u001b[1;32mis\u001b[0m \u001b[1;32mNone\u001b[0m \u001b[1;32mand\u001b[0m \u001b[0mby\u001b[0m \u001b[1;32mis\u001b[0m \u001b[1;32mNone\u001b[0m\u001b[1;33m:\u001b[0m\u001b[1;33m\u001b[0m\u001b[1;33m\u001b[0m\u001b[0m\n\u001b[0;32m   5798\u001b[0m             \u001b[1;32mraise\u001b[0m \u001b[0mTypeError\u001b[0m\u001b[1;33m(\u001b[0m\u001b[1;34m\"You have to supply one of 'by' and 'level'\"\u001b[0m\u001b[1;33m)\u001b[0m\u001b[1;33m\u001b[0m\u001b[1;33m\u001b[0m\u001b[0m\n\u001b[1;32m-> 5799\u001b[1;33m         \u001b[0maxis\u001b[0m \u001b[1;33m=\u001b[0m \u001b[0mself\u001b[0m\u001b[1;33m.\u001b[0m\u001b[0m_get_axis_number\u001b[0m\u001b[1;33m(\u001b[0m\u001b[0maxis\u001b[0m\u001b[1;33m)\u001b[0m\u001b[1;33m\u001b[0m\u001b[1;33m\u001b[0m\u001b[0m\n\u001b[0m\u001b[0;32m   5800\u001b[0m \u001b[1;33m\u001b[0m\u001b[0m\n\u001b[0;32m   5801\u001b[0m         return groupby_generic.DataFrameGroupBy(\n",
      "\u001b[1;32m~\\anaconda3\\lib\\site-packages\\pandas\\core\\generic.py\u001b[0m in \u001b[0;36m_get_axis_number\u001b[1;34m(cls, axis)\u001b[0m\n\u001b[0;32m    405\u001b[0m             \u001b[1;32mexcept\u001b[0m \u001b[0mKeyError\u001b[0m\u001b[1;33m:\u001b[0m\u001b[1;33m\u001b[0m\u001b[1;33m\u001b[0m\u001b[0m\n\u001b[0;32m    406\u001b[0m                 \u001b[1;32mpass\u001b[0m\u001b[1;33m\u001b[0m\u001b[1;33m\u001b[0m\u001b[0m\n\u001b[1;32m--> 407\u001b[1;33m         \u001b[1;32mraise\u001b[0m \u001b[0mValueError\u001b[0m\u001b[1;33m(\u001b[0m\u001b[1;34mf\"No axis named {axis} for object type {cls}\"\u001b[0m\u001b[1;33m)\u001b[0m\u001b[1;33m\u001b[0m\u001b[1;33m\u001b[0m\u001b[0m\n\u001b[0m\u001b[0;32m    408\u001b[0m \u001b[1;33m\u001b[0m\u001b[0m\n\u001b[0;32m    409\u001b[0m     \u001b[1;33m@\u001b[0m\u001b[0mclassmethod\u001b[0m\u001b[1;33m\u001b[0m\u001b[1;33m\u001b[0m\u001b[0m\n",
      "\u001b[1;31mValueError\u001b[0m: No axis named Fold Change Result for object type <class 'pandas.core.frame.DataFrame'>"
     ]
    }
   ],
   "source": [
    "output_df = decode_df.groupby('histone mod', 'Fold Change Result', 'Adjusted P-Value')['Protein Name'].apply(lambda x: ','.join(x)).reset_index()\n",
    "print(output_df)"
   ]
  },
  {
   "cell_type": "code",
   "execution_count": null,
   "metadata": {},
   "outputs": [],
   "source": []
  },
  {
   "cell_type": "code",
   "execution_count": null,
   "metadata": {},
   "outputs": [],
   "source": []
  },
  {
   "cell_type": "code",
   "execution_count": null,
   "metadata": {},
   "outputs": [],
   "source": []
  },
  {
   "cell_type": "code",
   "execution_count": null,
   "metadata": {},
   "outputs": [],
   "source": []
  },
  {
   "cell_type": "code",
   "execution_count": null,
   "metadata": {},
   "outputs": [],
   "source": []
  },
  {
   "cell_type": "code",
   "execution_count": null,
   "metadata": {},
   "outputs": [],
   "source": []
  },
  {
   "cell_type": "code",
   "execution_count": null,
   "metadata": {},
   "outputs": [],
   "source": []
  },
  {
   "cell_type": "code",
   "execution_count": null,
   "metadata": {},
   "outputs": [],
   "source": []
  },
  {
   "cell_type": "code",
   "execution_count": null,
   "metadata": {},
   "outputs": [],
   "source": []
  }
 ],
 "metadata": {
  "kernelspec": {
   "display_name": "Python 3",
   "language": "python",
   "name": "python3"
  },
  "language_info": {
   "codemirror_mode": {
    "name": "ipython",
    "version": 3
   },
   "file_extension": ".py",
   "mimetype": "text/x-python",
   "name": "python",
   "nbconvert_exporter": "python",
   "pygments_lexer": "ipython3",
   "version": "3.7.6"
  }
 },
 "nbformat": 4,
 "nbformat_minor": 1
}
