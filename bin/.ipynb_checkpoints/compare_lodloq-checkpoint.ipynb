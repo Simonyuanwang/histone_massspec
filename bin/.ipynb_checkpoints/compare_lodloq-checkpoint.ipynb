{
 "cells": [
  {
   "cell_type": "code",
   "execution_count": 50,
   "metadata": {},
   "outputs": [
    {
     "name": "stderr",
     "output_type": "stream",
     "text": [
      "C:\\Users\\linds\\anaconda3\\lib\\site-packages\\pandas\\core\\frame.py:4133: SettingWithCopyWarning: \n",
      "A value is trying to be set on a copy of a slice from a DataFrame\n",
      "\n",
      "See the caveats in the documentation: https://pandas.pydata.org/pandas-docs/stable/user_guide/indexing.html#returning-a-view-versus-a-copy\n",
      "  errors=errors,\n"
     ]
    },
    {
     "data": {
      "text/html": [
       "<div>\n",
       "<style scoped>\n",
       "    .dataframe tbody tr th:only-of-type {\n",
       "        vertical-align: middle;\n",
       "    }\n",
       "\n",
       "    .dataframe tbody tr th {\n",
       "        vertical-align: top;\n",
       "    }\n",
       "\n",
       "    .dataframe thead th {\n",
       "        text-align: right;\n",
       "    }\n",
       "</style>\n",
       "<table border=\"1\" class=\"dataframe\">\n",
       "  <thead>\n",
       "    <tr style=\"text-align: right;\">\n",
       "      <th></th>\n",
       "      <th>peptide</th>\n",
       "      <th>baselineLOD</th>\n",
       "      <th>baselineLOQ</th>\n",
       "      <th>optimizedLOD</th>\n",
       "      <th>optimizedLOQ</th>\n",
       "    </tr>\n",
       "  </thead>\n",
       "  <tbody>\n",
       "    <tr>\n",
       "      <th>0</th>\n",
       "      <td>G[+56]K[+42]QGGK[+42]AR +1</td>\n",
       "      <td>6000.000000</td>\n",
       "      <td>6000.000000</td>\n",
       "      <td>6000.000000</td>\n",
       "      <td>6000.000000</td>\n",
       "    </tr>\n",
       "    <tr>\n",
       "      <th>1</th>\n",
       "      <td>G[+56]K[+42]QGGK[+42]AR +2</td>\n",
       "      <td>907.367439</td>\n",
       "      <td>948.707162</td>\n",
       "      <td>4562.901293</td>\n",
       "      <td>6000.000000</td>\n",
       "    </tr>\n",
       "    <tr>\n",
       "      <th>2</th>\n",
       "      <td>G[+56]K[+42]QGGK[+42]AR +3</td>\n",
       "      <td>6000.000000</td>\n",
       "      <td>6000.000000</td>\n",
       "      <td>6000.000000</td>\n",
       "      <td>6000.000000</td>\n",
       "    </tr>\n",
       "    <tr>\n",
       "      <th>3</th>\n",
       "      <td>G[+56]K[+56]QGGK[+42]AR +1</td>\n",
       "      <td>2138.233023</td>\n",
       "      <td>2745.274503</td>\n",
       "      <td>251.267696</td>\n",
       "      <td>2265.881401</td>\n",
       "    </tr>\n",
       "    <tr>\n",
       "      <th>4</th>\n",
       "      <td>G[+56]K[+56]QGGK[+42]AR +2</td>\n",
       "      <td>694.907688</td>\n",
       "      <td>738.393469</td>\n",
       "      <td>32.613024</td>\n",
       "      <td>82.788650</td>\n",
       "    </tr>\n",
       "  </tbody>\n",
       "</table>\n",
       "</div>"
      ],
      "text/plain": [
       "                      peptide  baselineLOD  baselineLOQ  optimizedLOD  \\\n",
       "0  G[+56]K[+42]QGGK[+42]AR +1  6000.000000  6000.000000   6000.000000   \n",
       "1  G[+56]K[+42]QGGK[+42]AR +2   907.367439   948.707162   4562.901293   \n",
       "2  G[+56]K[+42]QGGK[+42]AR +3  6000.000000  6000.000000   6000.000000   \n",
       "3  G[+56]K[+56]QGGK[+42]AR +1  2138.233023  2745.274503    251.267696   \n",
       "4  G[+56]K[+56]QGGK[+42]AR +2   694.907688   738.393469     32.613024   \n",
       "\n",
       "   optimizedLOQ  \n",
       "0   6000.000000  \n",
       "1   6000.000000  \n",
       "2   6000.000000  \n",
       "3   2265.881401  \n",
       "4     82.788650  "
      ]
     },
     "execution_count": 50,
     "metadata": {},
     "output_type": "execute_result"
    }
   ],
   "source": [
    "import pandas as pd\n",
    "import os\n",
    "import matplotlib.pyplot as plt\n",
    "import numpy as np\n",
    "from matplotlib.ticker import MaxNLocator\n",
    "\n",
    "proj_dir = \"D:/Penn/proj/histone_assay/\"\n",
    "\n",
    "baseline = pd.read_csv(os.path.join(proj_dir, \"./results/curve_results/skyline/baseline/figuresofmerit.csv\"))\n",
    "optimized = pd.read_csv(os.path.join(proj_dir, \"./results/curve_results/skyline/optimized/figuresofmerit.csv\"))\n",
    "\n",
    "results = baseline[['peptide','LOD','LOQ']]\n",
    "results.rename(columns={'LOD':'baselineLOD', 'LOQ':'baselineLOQ'}, inplace=True)\n",
    "results = pd.merge(results, optimized[['peptide', 'LOD', 'LOQ']], on='peptide')\n",
    "results.rename(columns={'LOD':'optimizedLOD', 'LOQ':'optimizedLOQ'}, inplace=True)\n",
    "results.replace(np.inf, 6000, inplace=True)\n",
    "results.replace(np.nan, 6000, inplace=True)\n",
    "results.head()"
   ]
  },
  {
   "cell_type": "code",
   "execution_count": 56,
   "metadata": {},
   "outputs": [
    {
     "data": {
      "image/png": "[encoded data removed]",
      "text/plain": [
       "<Figure size 432x288 with 1 Axes>"
      ]
     },
     "metadata": {
      "needs_background": "light"
     },
     "output_type": "display_data"
    }
   ],
   "source": [
    "# histogram\n",
    "plt.hist(results['baselineLOD'], bins=50, color=\"red\", alpha=0.7)\n",
    "plt.hist(results['optimizedLOD'], bins=50, color=\"blue\", alpha=0.7)\n",
    "plt.xlabel('LOD')\n",
    "plt.ylabel('histone PTM \\nprecursors')\n",
    "plt.show()"
   ]
  },
  {
   "cell_type": "code",
   "execution_count": 53,
   "metadata": {},
   "outputs": [
    {
     "data": {
      "text/plain": [
       "<module 'matplotlib.pyplot' from 'C:\\\\Users\\\\linds\\\\anaconda3\\\\lib\\\\site-packages\\\\matplotlib\\\\pyplot.py'>"
      ]
     },
     "execution_count": 53,
     "metadata": {},
     "output_type": "execute_result"
    },
    {
     "data": {
      "image/png": "[encoded data removed]",
      "text/plain": [
       "<Figure size 432x288 with 1 Axes>"
      ]
     },
     "metadata": {
      "needs_background": "light"
     },
     "output_type": "display_data"
    }
   ],
   "source": [
    "## plots two vectors against each other\n",
    "def plot_correlation(x, y, xlabel, ylabel, ptalpha=0.5):\n",
    "    \n",
    "    # define three sizes for everything in the figure (axes, etc)\n",
    "    SMALL_SIZE = 12\n",
    "    MEDIUM_SIZE = 24\n",
    "    BIGGER_SIZE = 26\n",
    "\n",
    "    plt.rc('font', size=SMALL_SIZE)          # controls default text sizes\n",
    "    plt.rc('axes', titlesize=SMALL_SIZE)     # fontsize of the axes title\n",
    "    plt.rc('axes', labelsize=MEDIUM_SIZE)    # fontsize of the x and y labels\n",
    "    plt.rc('xtick', labelsize=SMALL_SIZE)    # fontsize of the tick labels\n",
    "    plt.rc('ytick', labelsize=SMALL_SIZE)    # fontsize of the tick labels\n",
    "    plt.rc('legend', fontsize=SMALL_SIZE)    # legend fontsize\n",
    "    plt.rc('figure', titlesize=BIGGER_SIZE)  # fontsize of the figure title\n",
    "\n",
    "    # make a scatterplot of the data x vs y\n",
    "    fig, ax = plt.subplots()\n",
    "    ax.scatter(x, y, color='black', alpha=ptalpha, s=30)\n",
    "\n",
    "    # use the same axis scale for all plots for uniformity\n",
    "    lims = [-250, 7500]\n",
    "\n",
    "    # add a red-colored line of equality, y=x\n",
    "    ax.plot(lims, lims, 'k-', alpha=0.75, color='red', zorder=0)\n",
    "    \n",
    "    # now plot both axes against each other\n",
    "    ax.set_aspect('equal')\n",
    "    ax.set_xlim(lims)\n",
    "    ax.set_ylim(lims)\n",
    "    \n",
    "    # force axis ticks to be integers so the plot is prettier\n",
    "    ax.xaxis.set_major_locator(MaxNLocator(integer=True))\n",
    "    ax.yaxis.set_major_locator(MaxNLocator(integer=True))\n",
    "\n",
    "    # hide the right and top spines for prettier plot\n",
    "    ax.spines['right'].set_visible(False)\n",
    "    ax.spines['top'].set_visible(False)\n",
    "\n",
    "    # only show ticks on the left and bottom spines\n",
    "    ax.yaxis.set_ticks_position('left')\n",
    "    ax.xaxis.set_ticks_position('bottom')\n",
    "\n",
    "    # add labels for the two axes based on function inputs\n",
    "    fig.suptitle('', fontsize=16)  # no title\n",
    "    plt.xlabel(xlabel)\n",
    "    plt.ylabel(ylabel)\n",
    "    \n",
    "    # adjust the borders to cut off excess whitespace and make room for xaxis label\n",
    "    plt.tight_layout()\n",
    "\n",
    "    return plt\n",
    "\n",
    "plot_correlation(results['baselineLOQ'], results['optimizedLOQ'], 'baseline LOQ', 'optimized LOQ', ptalpha=0.5)\n"
   ]
  }
 ],
 "metadata": {
  "kernelspec": {
   "display_name": "Python 3",
   "language": "python",
   "name": "python3"
  },
  "language_info": {
   "codemirror_mode": {
    "name": "ipython",
    "version": 3
   },
   "file_extension": ".py",
   "mimetype": "text/x-python",
   "name": "python",
   "nbconvert_exporter": "python",
   "pygments_lexer": "ipython3",
   "version": "3.7.6"
  }
 },
 "nbformat": 4,
 "nbformat_minor": 4
}
